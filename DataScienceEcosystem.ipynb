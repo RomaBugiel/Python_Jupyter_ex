{
 "cells": [
  {
   "cell_type": "markdown",
   "id": "08c892e5",
   "metadata": {},
   "source": [
    "#  Data Science Tools and Ecosystem"
   ]
  },
  {
   "cell_type": "markdown",
   "id": "7f78ed4b",
   "metadata": {},
   "source": [
    "In this notebook, Data Science Tools and Ecosystem are summarized."
   ]
  },
  {
   "cell_type": "markdown",
   "id": "9ef3ca87",
   "metadata": {},
   "source": [
    "**Objectives:**\n",
    "\n",
    "* In this notebook popular languages for DS have been mentioned.\n",
    "* In this notebook commonly used libraries for DS have been mentioned.\n",
    "* In this notebook popular Data Science Tools have been mentioned.\n",
    "* In this notebook arithmetic expression examples in Python have been presented."
   ]
  },
  {
   "cell_type": "markdown",
   "id": "dfbdd9bc",
   "metadata": {},
   "source": [
    "Some of the popular languages that Data Scientists use are:\n",
    "1. Python\n",
    "2. R\n",
    "3. Scala\n",
    "4. SQL\n",
    "5. Java\n",
    "6. C++"
   ]
  },
  {
   "cell_type": "markdown",
   "id": "b2f5114e",
   "metadata": {},
   "source": [
    "Some of the commonly used libraries used by Data Scientists include:\n",
    "\n",
    "1. NumPy\n",
    "2. Panda\n",
    "3. Scikit-learn\n",
    "4. Keras\n",
    "5. ggplot2\n",
    "6. TensorFlow\n"
   ]
  },
  {
   "cell_type": "markdown",
   "id": "8146dcb8",
   "metadata": {},
   "source": [
    "| Data Science Tools | \n",
    "|------|\n",
    "| Apache Spark |\n",
    "| Jupyter Notebook |\n",
    "| IBM Watson |"
   ]
  },
  {
   "cell_type": "markdown",
   "id": "089a18ef",
   "metadata": {},
   "source": [
    "### Below are a few examples of evaluating arithmetic expressions in Python\n",
    "$ x = ax^2 + bx + c $\n",
    "\n",
    "$ \\int_0^\\infty {e^-x}dx = 1 $"
   ]
  },
  {
   "cell_type": "code",
   "execution_count": 15,
   "id": "fb73a6b5",
   "metadata": {},
   "outputs": [
    {
     "name": "stdout",
     "output_type": "stream",
     "text": [
      "17\n"
     ]
    }
   ],
   "source": [
    "#This a simple arithmetic expression to mutiply then add integers\n",
    "x = (3*4)+5\n",
    "print(x)"
   ]
  },
  {
   "cell_type": "code",
   "execution_count": 9,
   "id": "552f9e04",
   "metadata": {},
   "outputs": [
    {
     "name": "stdout",
     "output_type": "stream",
     "text": [
      "3.3333333333333335\n"
     ]
    }
   ],
   "source": [
    "#This will convert 200 minutes to hours by diving by 60\n",
    "def convert_minutes_to_hours(minutes):\n",
    "    return minutes/60\n",
    "\n",
    "print(convert_minutes_to_hours(200))"
   ]
  },
  {
   "cell_type": "markdown",
   "id": "ab3cf28b",
   "metadata": {},
   "source": [
    "## Author:\n",
    "\n",
    "Roma Bugiel"
   ]
  },
  {
   "cell_type": "code",
   "execution_count": null,
   "id": "a755555f",
   "metadata": {},
   "outputs": [],
   "source": []
  }
 ],
 "metadata": {
  "kernelspec": {
   "display_name": "Python 3 (ipykernel)",
   "language": "python",
   "name": "python3"
  },
  "language_info": {
   "codemirror_mode": {
    "name": "ipython",
    "version": 3
   },
   "file_extension": ".py",
   "mimetype": "text/x-python",
   "name": "python",
   "nbconvert_exporter": "python",
   "pygments_lexer": "ipython3",
   "version": "3.11.5"
  }
 },
 "nbformat": 4,
 "nbformat_minor": 5
}
